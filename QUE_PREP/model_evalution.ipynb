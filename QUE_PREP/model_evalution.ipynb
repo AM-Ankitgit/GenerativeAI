{
 "cells": [
  {
   "cell_type": "code",
   "execution_count": null,
   "metadata": {
    "vscode": {
     "languageId": "plaintext"
    }
   },
   "outputs": [],
   "source": [
    "from transformer import AutomModelForCausual,AutoTokenizer\n",
    "\n",
    "from sklearn.metric import accuracy_score\n",
    "\n",
    "model = 'gpt-o4'\n",
    "\n",
    "tokenizer = AutoTokenizer.from_pretrained(model)\n",
    "llm = AutomModelForCausual.from_pretrained(model)\n",
    "\n",
    "\n",
    "data='how are you'\n",
    "expected_output= 'I am good'\n",
    "\n",
    "llm."
   ]
  },
  {
   "cell_type": "code",
   "execution_count": null,
   "metadata": {
    "vscode": {
     "languageId": "plaintext"
    }
   },
   "outputs": [],
   "source": []
  },
  {
   "cell_type": "code",
   "execution_count": null,
   "metadata": {
    "vscode": {
     "languageId": "plaintext"
    }
   },
   "outputs": [],
   "source": []
  }
 ],
 "metadata": {
  "language_info": {
   "name": "python"
  }
 },
 "nbformat": 4,
 "nbformat_minor": 2
}
